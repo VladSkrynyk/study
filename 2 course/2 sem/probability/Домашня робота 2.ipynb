{
 "cells": [
  {
   "cell_type": "markdown",
   "metadata": {},
   "source": [
    "# Домашня робота №2"
   ]
  },
  {
   "cell_type": "markdown",
   "metadata": {},
   "source": [
    "## 1 Пароль\n",
    "Напишіть програму (функцію) для генерування випадкового пароля з такими обмеженнями:\n",
    "- пароль складається з рівно $10$ символів\n",
    "- пароль містить хоча б одну маленьку латинську літеру [a-z]\n",
    "- пароль містить хоча б одну велику латинську літеру [A-Z]\n",
    "- пароль містить хоча б одну цифру [0-9]\n",
    "- пароль містить хоча б один спеціальний символ [~!@#$%^&*()-_+=\\/{}[].,?<>:;]"
   ]
  },
  {
   "cell_type": "code",
   "execution_count": 1,
   "metadata": {
    "collapsed": true
   },
   "outputs": [
    {
     "name": "stdout",
     "output_type": "stream",
     "text": [
      "-q_CR=gN3^ 10\n"
     ]
    }
   ],
   "source": [
    "# Місце для Вашого коду\n",
    "import numpy as np\n",
    "import string\n",
    "l1 = list(string.ascii_lowercase)\n",
    "l2 = list(string.ascii_uppercase)\n",
    "l3 = [i for i in range(10)]\n",
    "l4 = [\"~\",\"!\", \"@\", \"#\", \"$\", \"%\", \"^\", \"&\", \"*\", \"(\", \")\", \"-\", \"_\", \"+\", \"=\", \"/\", \"{\", \"}\", \"[\", \"]\", \".\", \",\", \"?\", \"<\", \">\", \":\",  \";\"]\n",
    "\n",
    "size = 10\n",
    "\n",
    "password = []\n",
    "password.append(np.random.choice(l1, size=1))\n",
    "password.append(np.random.choice(l2, size=1))\n",
    "password.append(np.random.choice(l3, size=1))\n",
    "password.append(np.random.choice(l4, size=1))\n",
    "\n",
    "l = l1 + l2 + l3 + l4\n",
    "rest = list(np.random.choice(l, size=6)) + password\n",
    "\n",
    "passwrd = \"\"\n",
    "for i in rest:\n",
    "    passwrd += str(i[0])\n",
    "print(passwrd, len(passwrd))\n",
    "\n"
   ]
  },
  {
   "cell_type": "markdown",
   "metadata": {},
   "source": [
    "## 2 Герби в ряд\n",
    "Реалізуйте функцію для обчислення емпіричної та теоретичної імовірностей випадіння $k$ гербів (HEADS) підряд у серії з $n$ підкидань чесної монетки. Підрахуйте відповідні ймовірності для таких параметрів:\n",
    "- $k = 2, n = 10, 50, 100, 500, 1000, 5000, 10000$\n",
    "- $k = 3, n = 10, 50, 100, 500, 1000, 5000, 10000$\n",
    "\n",
    "**Зауваження.** Нехай $k = 2, n = 10$ та маємо таку послідовність результатів підкидання монети: $\\{ H, T, H, H, H, H, T, T, H, T \\}$. Тоді матимемо $3$ випадки випадіння двох гербів підряд та емпіричну ймовірність такої події $1/3$."
   ]
  },
  {
   "cell_type": "code",
   "execution_count": 43,
   "metadata": {
    "collapsed": true
   },
   "outputs": [
    {
     "name": "stdout",
     "output_type": "stream",
     "text": [
      "k = 2\n",
      "n = 10  :  P(head) = 0.0\n",
      "n = 50  :  P(head) = 0.22\n",
      "n = 100  :  P(head) = 0.28\n",
      "n = 500  :  P(head) = 0.268\n",
      "n = 1000  :  P(head) = 0.24\n",
      "n = 5000  :  P(head) = 0.2508\n",
      "n = 10000  :  P(head) = 0.2503\n",
      "\n",
      "k = 3\n",
      "n = 10  :  P(head) = 0.0\n",
      "n = 50  :  P(head) = 0.18\n",
      "n = 100  :  P(head) = 0.07\n",
      "n = 500  :  P(head) = 0.114\n",
      "n = 1000  :  P(head) = 0.127\n",
      "n = 5000  :  P(head) = 0.1304\n",
      "n = 10000  :  P(head) = 0.1208\n"
     ]
    }
   ],
   "source": [
    "# Місце для Вашого коду\n",
    "flips = [10, 50, 100, 500, 1000, 5000, 10000]\n",
    "\n",
    "print(\"k = 2\")\n",
    "for flip in flips:\n",
    "    tosses = np.random.choice([\"H\",\"T\"],p=[0.5, 0.5], size=flip)\n",
    "    count_H = 0\n",
    "    #print(tosses)\n",
    "    for i in range(len(tosses) - 1):\n",
    "        if tosses[i] == \"H\" and tosses[i + 1] == \"H\":\n",
    "            count_H += 1\n",
    "    #print(count_H, count_H / flip)\n",
    "    \n",
    "    print(f\"n = {flip}  :  P(head) = {count_H / flip}\")\n",
    "\n",
    "print()\n",
    "print(\"k = 3\")\n",
    "for flip in flips:\n",
    "    tosses = np.random.choice([\"H\",\"T\"],p=[0.5, 0.5], size=flip)\n",
    "    count_H = 0\n",
    "    #print(tosses)\n",
    "    for i in range(len(tosses) - 2):\n",
    "        if tosses[i] == \"H\" and tosses[i + 1] == \"H\" and tosses[i + 2] == \"H\":\n",
    "            count_H += 1\n",
    "    #print(count_H, count_H / flip)\n",
    "    \n",
    "    print(f\"n = {flip}  :  P(head) = {count_H / flip}\")\n"
   ]
  },
  {
   "cell_type": "markdown",
   "metadata": {},
   "source": [
    "## 3 Найбільше число\n",
    "Реалізуйте функцію підрахунку точної (теоретичної) імовірності того, що максимальне число після $n$ кидків звичайного грального кубика дорівнює $x\\_max$, для таких параметрів:\n",
    "- $n = 3, x\\_max = 6$\n",
    "- $n = 2, x\\_max = 3$\n",
    "- $n = 3, x\\_max = 5$\n",
    "\n",
    "Тобто, якщо $X_i, i = 1, \\ldots, n$, - число на $i$-му кидку кубика, а $X = \\max\\limits_{1 \\leq i \\leq n} X_i$, то потрібно знайти ймовірність $\\textbf{P} \\left( X = x\\_max \\right)$.\n",
    "\n",
    "Підрахуйте також емпіричні ймовірності відповідних подій у випадку $10000$ симуляцій.\n",
    "\n",
    "**Зауваження.** Якщо введені параметри не мають сенсу, то повертати $0$.\n",
    "Тобто, якщо вводиться $x\\_max < 1$ або $x\\_max > 6$."
   ]
  },
  {
   "cell_type": "code",
   "execution_count": 55,
   "metadata": {
    "collapsed": true
   },
   "outputs": [
    {
     "name": "stdout",
     "output_type": "stream",
     "text": [
      "Тереотична імовірність: 0.4212962962962963\n",
      "n = 3, x_max = 6\n",
      "P(A) =  0.4256\n",
      "5\n",
      "Тереотична імовірність: 0.1388888888888889\n",
      "n = 2, x_max = 3\n",
      "P(A) =  0.1368\n",
      "Тереотична імовірність: 0.2824074074074074\n",
      "n = 3, x_max = 5\n",
      "P(A) =  0.2851\n"
     ]
    }
   ],
   "source": [
    "# Місце для Вашого коду\n",
    "from itertools import combinations\n",
    "\n",
    "def task3(n, x_max):\n",
    "    if x_max < 1 or x_max > 6:\n",
    "        return 0\n",
    "    \n",
    "    n_sides = 6\n",
    "    throughs = np.random.randint(n_sides, size=n)\n",
    "    throughs = [i + 1 for i in throughs]\n",
    "\n",
    "    if n == 3:\n",
    "        all_variants = 6**n\n",
    "        A = 0\n",
    "        print(f\"Тереотична імовірність: {((x_max - 1) ** (n-1) * n + (x_max - 1) * len(list(combinations([1, 2, 3], 2))) + 1) / all_variants}\")\n",
    "    if n == 2:\n",
    "        all_variants = 6**n\n",
    "        \n",
    "        A = 5 # їх можна перебрати -> (3, 1) (3, 2) (1, 3) (2, 3) (3, 3)\n",
    "        print(A)\n",
    "        print(f\"Тереотична імовірність: {A / all_variants}\")\n",
    "\n",
    "\n",
    "    empA = 0\n",
    "    for i in range(10000):\n",
    "        n_sides = 6\n",
    "        throughs = np.random.randint(n_sides, size=n)\n",
    "        throughs = [i + 1 for i in throughs]\n",
    "        if max(throughs) == x_max:\n",
    "            empA += 1\n",
    "    P_empA = empA / 10000\n",
    "    print(\"n = {}, x_max = {}\".format(n, x_max))\n",
    "    print(\"P(A) = \", P_empA)\n",
    "    \n",
    "task3(3, 6)\n",
    "task3(2, 3)\n",
    "task3(3, 5)\n"
   ]
  },
  {
   "cell_type": "markdown",
   "metadata": {},
   "source": [
    "## 4 Сума чисел\n",
    "Реалізуйте функцію підрахунку точної (теоретичної) імовірності того, що сума чисел після $n$ кидків звичайного грального кубика дорівнює $s$, для таких параметрів:\n",
    "- $n = 3, s = 13$\n",
    "- $n = 2, s = 5$\n",
    "- $n = 3, s = 7$\n",
    "\n",
    "Тобто, якщо $X_i, i = 1, \\ldots, n$, - число на $i$-му кидку кубика, а $X = \\sum\\limits_{i = 1}^{n} X_i$, то потрібно знайти ймовірність $\\textbf{P} \\left( X = s \\right)$.\n",
    "\n",
    "Підрахуйте також емпіричні ймовірності відповідних подій у випадку $10000$ симуляцій.\n",
    "\n",
    "**Зауваження.** Якщо введені параметри не мають сенсу, то повертати $0$.\n",
    "Наприклад, якщо при $n = 3$ вводиться $s < 3$ або $s > 18$."
   ]
  },
  {
   "cell_type": "code",
   "execution_count": 4,
   "metadata": {
    "collapsed": true
   },
   "outputs": [],
   "source": [
    "# Місце для Вашого коду\n",
    "\n"
   ]
  }
 ],
 "metadata": {
  "kernelspec": {
   "display_name": "Python 3",
   "language": "python",
   "name": "python3"
  },
  "language_info": {
   "codemirror_mode": {
    "name": "ipython",
    "version": 3
   },
   "file_extension": ".py",
   "mimetype": "text/x-python",
   "name": "python",
   "nbconvert_exporter": "python",
   "pygments_lexer": "ipython3",
   "version": "3.10.6"
  },
  "vscode": {
   "interpreter": {
    "hash": "455757403a224dce549c2c8bae44f0d7666f720589e565f9fa0135a180a2ac5b"
   }
  }
 },
 "nbformat": 4,
 "nbformat_minor": 1
}
