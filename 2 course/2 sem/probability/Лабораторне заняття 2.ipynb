{
 "cells": [
  {
   "cell_type": "markdown",
   "metadata": {},
   "source": [
    "# Лабораторне заняття №2\n",
    "Знайомство з бібліотекою **NumPy**."
   ]
  },
  {
   "cell_type": "code",
   "execution_count": 2,
   "metadata": {},
   "outputs": [],
   "source": [
    "import numpy as np"
   ]
  },
  {
   "cell_type": "markdown",
   "metadata": {},
   "source": [
    "## 1 Огляд функцій випадкового вибору"
   ]
  },
  {
   "cell_type": "markdown",
   "metadata": {},
   "source": [
    "### 1.1 Функція *choice*\n",
    "Для детальної інформації див. [документацію](https://docs.scipy.org/doc/numpy-1.14.1/reference/generated/numpy.random.choice.html)."
   ]
  },
  {
   "cell_type": "code",
   "execution_count": 3,
   "metadata": {},
   "outputs": [
    {
     "name": "stdout",
     "output_type": "stream",
     "text": [
      "['top' 'top' 'bottom' 'top' 'top' '2' 'top' '4.5' '2' 'bottom']\n"
     ]
    }
   ],
   "source": [
    "a = [\"top\", 2, \"bottom\", 4.5]\n",
    "size = 10\n",
    "probs = [0.4, 0.2, 0.1, 0.3]\n",
    "replace = True\n",
    "print(np.random.choice(a, size=size, replace=replace, p=probs))"
   ]
  },
  {
   "cell_type": "markdown",
   "metadata": {},
   "source": [
    "Згенеруйте одну випадкову цифру, вважаючи їх рівноймовірними."
   ]
  },
  {
   "cell_type": "code",
   "execution_count": 4,
   "metadata": {},
   "outputs": [
    {
     "name": "stdout",
     "output_type": "stream",
     "text": [
      "9\n"
     ]
    }
   ],
   "source": [
    "# Місце для Вашого коду\n",
    "\n",
    "print(np.random.choice(10))"
   ]
  },
  {
   "cell_type": "markdown",
   "metadata": {},
   "source": [
    "Згенеруйте випадкову матрицю $4 \\times 6$ із рівноймовірних цифр."
   ]
  },
  {
   "cell_type": "code",
   "execution_count": 7,
   "metadata": {},
   "outputs": [
    {
     "name": "stdout",
     "output_type": "stream",
     "text": [
      "[[5 7 5 2 3 2]\n",
      " [1 6 4 8 0 3]\n",
      " [7 6 7 5 7 5]\n",
      " [1 8 4 4 2 9]]\n"
     ]
    }
   ],
   "source": [
    "# Місце для Вашого коду\n",
    "\n",
    "print(np.random.choice(10, size=(4,6)))"
   ]
  },
  {
   "cell_type": "markdown",
   "metadata": {},
   "source": [
    "### 1.2 Функція *randint*\n",
    "Для детальної інформації див. [документацію](https://docs.scipy.org/doc/numpy-1.14.1/reference/generated/numpy.random.randint.html)."
   ]
  },
  {
   "cell_type": "code",
   "execution_count": 10,
   "metadata": {},
   "outputs": [
    {
     "name": "stdout",
     "output_type": "stream",
     "text": [
      "[2 2 4 1 4 2 2 1 4 1]\n"
     ]
    }
   ],
   "source": [
    "low = 0\n",
    "high = 5\n",
    "size = 10\n",
    "print(np.random.randint(low=low, high=high, size=size))"
   ]
  },
  {
   "cell_type": "markdown",
   "metadata": {},
   "source": [
    "Згенеруйте одну випадкову цифру."
   ]
  },
  {
   "cell_type": "code",
   "execution_count": 11,
   "metadata": {},
   "outputs": [
    {
     "name": "stdout",
     "output_type": "stream",
     "text": [
      "5\n"
     ]
    }
   ],
   "source": [
    "# Місце для Вашого коду\n",
    "\n",
    "print(np.random.randint(10))"
   ]
  },
  {
   "cell_type": "markdown",
   "metadata": {},
   "source": [
    "Згенеруйте випадкову матрицю $4 \\times 5$ із двоцифрових чисел."
   ]
  },
  {
   "cell_type": "code",
   "execution_count": 12,
   "metadata": {},
   "outputs": [
    {
     "name": "stdout",
     "output_type": "stream",
     "text": [
      "[[25 38 49 35 66]\n",
      " [21 19 37 60 17]\n",
      " [91 21 36 43 56]\n",
      " [75 42 19 51 69]]\n"
     ]
    }
   ],
   "source": [
    "# Місце для Вашого коду\n",
    "\n",
    "print(np.random.randint(low=10, high=100, size=(4,5)))"
   ]
  },
  {
   "cell_type": "markdown",
   "metadata": {},
   "source": [
    "### 1.3 Функція *sample*\n",
    "Для детальної інформації див. [документацію](https://docs.scipy.org/doc/numpy-1.14.1/reference/generated/numpy.random.sample.html)."
   ]
  },
  {
   "cell_type": "code",
   "execution_count": 11,
   "metadata": {},
   "outputs": [
    {
     "name": "stdout",
     "output_type": "stream",
     "text": [
      "0.7266724560264132\n"
     ]
    }
   ],
   "source": [
    "size = None\n",
    "print(np.random.sample(size=size))"
   ]
  },
  {
   "cell_type": "markdown",
   "metadata": {},
   "source": [
    "Згенеруйте випадкову матрицю $3 \\times 4$ із чисел з інтервалу $[0, 1)$."
   ]
  },
  {
   "cell_type": "code",
   "execution_count": 12,
   "metadata": {},
   "outputs": [
    {
     "name": "stdout",
     "output_type": "stream",
     "text": [
      "[[0.23409116 0.09924351 0.10079637 0.62394793]\n",
      " [0.77357971 0.86331526 0.13356948 0.59598477]\n",
      " [0.51717751 0.47055827 0.57618464 0.19794494]]\n"
     ]
    }
   ],
   "source": [
    "# Місце для Вашого коду\n",
    "\n",
    "print(np.random.sample(size=(3,4)))"
   ]
  },
  {
   "cell_type": "markdown",
   "metadata": {},
   "source": [
    "Згенеруйте 10 випадкових чисел з інтервалу $[a, b)$."
   ]
  },
  {
   "cell_type": "code",
   "execution_count": 13,
   "metadata": {
    "collapsed": true
   },
   "outputs": [],
   "source": [
    "a = 3\n",
    "b = 5"
   ]
  },
  {
   "cell_type": "code",
   "execution_count": 15,
   "metadata": {},
   "outputs": [
    {
     "name": "stdout",
     "output_type": "stream",
     "text": [
      "[3.12373483 4.4566867  3.21476794 4.45638589 3.59245729 3.86302244\n",
      " 3.78100194 4.02960629 3.48373027 3.12987541]\n"
     ]
    }
   ],
   "source": [
    "# Місце для Вашого коду\n",
    "\n",
    "print((b - a) * np.random.sample(size=10) + a)"
   ]
  },
  {
   "cell_type": "markdown",
   "metadata": {},
   "source": [
    "### 1.4 Функція *shuffle*\n",
    "Для детальної інформації див. [документацію](https://docs.scipy.org/doc/numpy-1.14.1/reference/generated/numpy.random.shuffle.html)."
   ]
  },
  {
   "cell_type": "code",
   "execution_count": 18,
   "metadata": {},
   "outputs": [
    {
     "name": "stdout",
     "output_type": "stream",
     "text": [
      "[0 7 9 6 2 3 5 1 4 8]\n"
     ]
    }
   ],
   "source": [
    "x = np.arange(10)\n",
    "np.random.shuffle(x)\n",
    "print(x)"
   ]
  },
  {
   "cell_type": "markdown",
   "metadata": {},
   "source": [
    "Перетасуйте матрицю $M$."
   ]
  },
  {
   "cell_type": "code",
   "execution_count": 34,
   "metadata": {},
   "outputs": [
    {
     "name": "stdout",
     "output_type": "stream",
     "text": [
      "[[ 0  1  2  3  4]\n",
      " [ 5  6  7  8  9]\n",
      " [10 11 12 13 14]\n",
      " [15 16 17 18 19]]\n"
     ]
    }
   ],
   "source": [
    "M = np.arange(20).reshape((4, 5))\n",
    "print(M)"
   ]
  },
  {
   "cell_type": "code",
   "execution_count": 37,
   "metadata": {},
   "outputs": [
    {
     "name": "stdout",
     "output_type": "stream",
     "text": [
      "[[ 0  1  2  3  4]\n",
      " [15 16 17 18 19]\n",
      " [10 11 12 13 14]\n",
      " [ 5  6  7  8  9]]\n"
     ]
    }
   ],
   "source": [
    "# Місце для Вашого коду\n",
    "\n",
    "np.random.shuffle(M)\n",
    "print(M)"
   ]
  },
  {
   "cell_type": "markdown",
   "metadata": {},
   "source": [
    "## 2 Відтворюваність результатів\n",
    "Можна задати початкове значення для генератора. Це зафіксує \"випадкову\" послідовність."
   ]
  },
  {
   "cell_type": "code",
   "execution_count": 38,
   "metadata": {},
   "outputs": [],
   "source": [
    "np.random.seed(42)"
   ]
  },
  {
   "cell_type": "code",
   "execution_count": 39,
   "metadata": {},
   "outputs": [
    {
     "name": "stdout",
     "output_type": "stream",
     "text": [
      "6\n"
     ]
    }
   ],
   "source": [
    "print(np.random.randint(10))"
   ]
  },
  {
   "cell_type": "code",
   "execution_count": 43,
   "metadata": {},
   "outputs": [
    {
     "name": "stdout",
     "output_type": "stream",
     "text": [
      "6\n"
     ]
    }
   ],
   "source": [
    "print(np.random.randint(10))"
   ]
  },
  {
   "cell_type": "code",
   "execution_count": 48,
   "metadata": {},
   "outputs": [
    {
     "name": "stdout",
     "output_type": "stream",
     "text": [
      "6\n",
      "3\n"
     ]
    }
   ],
   "source": [
    "np.random.seed(42)\n",
    "print(np.random.randint(10))\n",
    "print(np.random.randint(10))"
   ]
  },
  {
   "cell_type": "code",
   "execution_count": 51,
   "metadata": {},
   "outputs": [
    {
     "name": "stdout",
     "output_type": "stream",
     "text": [
      "[1 9 5 6 4 0 3 7 0 3]\n",
      "['l' 't' 't' 'r' 't' 't' 'b' 'b' 'l' 't']\n",
      "[1 9 5 6 4 0 3 7 0 3]\n",
      "['l' 't' 't' 'r' 't' 't' 'b' 'b' 'l' 't']\n"
     ]
    }
   ],
   "source": [
    "np.random.seed(28)\n",
    "print(np.random.randint(10, size=10))\n",
    "print(np.random.choice(['t', 'r', 'b', 'l'], size=10))\n",
    "np.random.seed(28)\n",
    "print(np.random.randint(10, size=10))\n",
    "print(np.random.choice(['t', 'r', 'b', 'l'], size=10))"
   ]
  },
  {
   "cell_type": "markdown",
   "metadata": {},
   "source": [
    "## 3 Монетка"
   ]
  },
  {
   "cell_type": "markdown",
   "metadata": {},
   "source": [
    "### 3.1 За допомогою функції *choice*"
   ]
  },
  {
   "cell_type": "code",
   "execution_count": 53,
   "metadata": {},
   "outputs": [
    {
     "name": "stdout",
     "output_type": "stream",
     "text": [
      "['T' 'T' 'T' 'H' 'H' 'H' 'T' 'T' 'T' 'T']\n"
     ]
    }
   ],
   "source": [
    "p=0.5\n",
    "n=10\n",
    "tosses=np.random.choice([\"H\",\"T\"],p=[p,1-p], size=n)\n",
    "print(tosses)"
   ]
  },
  {
   "cell_type": "code",
   "execution_count": 54,
   "metadata": {},
   "outputs": [
    {
     "name": "stdout",
     "output_type": "stream",
     "text": [
      "3 heads and 7 tails\n"
     ]
    }
   ],
   "source": [
    "heads = list(tosses).count(\"H\")\n",
    "tails = list(tosses).count(\"T\")\n",
    "\n",
    "print(\"{} heads and {} tails\".format(heads,tails))"
   ]
  },
  {
   "cell_type": "markdown",
   "metadata": {},
   "source": [
    "Просимулюйте $100$ підкидань монетки та підрахуйте кількість кожної із сторін."
   ]
  },
  {
   "cell_type": "code",
   "execution_count": 55,
   "metadata": {},
   "outputs": [
    {
     "name": "stdout",
     "output_type": "stream",
     "text": [
      "51 heads and 49 tails\n"
     ]
    }
   ],
   "source": [
    "# Місце для Вашого коду\n",
    "\n",
    "tosses = np.random.choice([\"H\",\"T\"], size=100)\n",
    "heads = list(tosses).count(\"H\")\n",
    "tails = list(tosses).count(\"T\")\n",
    "\n",
    "print(\"{} heads and {} tails\".format(heads,tails))"
   ]
  },
  {
   "cell_type": "markdown",
   "metadata": {},
   "source": [
    "### 3.2 За допомогою функції *randint*\n",
    "Реалізуйте симуляцію підкидань монетки за допомогою функції **randint**. Просимулюйте $100$ підкидань монетки та підрахуйте кількість кожної із сторін."
   ]
  },
  {
   "cell_type": "code",
   "execution_count": 59,
   "metadata": {},
   "outputs": [
    {
     "name": "stdout",
     "output_type": "stream",
     "text": [
      "46 heads and 54 tails\n"
     ]
    }
   ],
   "source": [
    "# Місце для Вашого коду\n",
    "\n",
    "tosses = np.random.randint(2, size=100)\n",
    "print(\"{} heads and {} tails\".format(sum(tosses == 1),sum(tosses == 0)))"
   ]
  },
  {
   "cell_type": "markdown",
   "metadata": {},
   "source": [
    "### 3.3 За допомогою функції *sample*\n",
    "Реалізуйте симуляцію підкидань монетки за допомогою функції **sample**. Просимулюйте $100$ підкидань монетки та підрахуйте кількість кожної із сторін."
   ]
  },
  {
   "cell_type": "code",
   "execution_count": 36,
   "metadata": {},
   "outputs": [
    {
     "name": "stdout",
     "output_type": "stream",
     "text": [
      "50 heads and 50 tails\n"
     ]
    }
   ],
   "source": [
    "# Місце для Вашого коду\n",
    "\n",
    "tosses = np.round(np.random.sample(100))\n",
    "print(\"{} heads and {} tails\".format(sum(tosses == 1),sum(tosses == 0)))"
   ]
  },
  {
   "cell_type": "markdown",
   "metadata": {},
   "source": [
    "### 3.4 Задача\n",
    "Знайдіть емпіричну ймовірність герба у симуляціях підкидання монетки $n = 10, 50, 100, 250, 500, 1000, 2500, 5000, 10000$ разів."
   ]
  },
  {
   "cell_type": "code",
   "execution_count": 37,
   "metadata": {},
   "outputs": [
    {
     "name": "stdout",
     "output_type": "stream",
     "text": [
      "n = 10  :  P(head) = 0.5,  P(tail) = 0.5\n",
      "n = 50  :  P(head) = 0.46,  P(tail) = 0.54\n",
      "n = 100  :  P(head) = 0.53,  P(tail) = 0.47\n",
      "n = 250  :  P(head) = 0.456,  P(tail) = 0.544\n",
      "n = 500  :  P(head) = 0.476,  P(tail) = 0.524\n",
      "n = 1000  :  P(head) = 0.502,  P(tail) = 0.498\n",
      "n = 2500  :  P(head) = 0.5004,  P(tail) = 0.4996\n",
      "n = 5000  :  P(head) = 0.5026,  P(tail) = 0.4974\n",
      "n = 10000  :  P(head) = 0.4983,  P(tail) = 0.5017\n"
     ]
    }
   ],
   "source": [
    "# Місце для Вашого коду\n",
    "\n",
    "params = [10, 50, 100, 250, 500, 1000, 2500, 5000, 10000]\n",
    "\n",
    "for n in params:\n",
    "    tosses = np.random.randint(2, size=n)\n",
    "    heads_prob = sum(tosses == 1) / n\n",
    "    tails_prob = sum(tosses == 0) / n\n",
    "    print('n = {}  :  P(head) = {},  P(tail) = {}'.format(n, heads_prob, tails_prob))"
   ]
  },
  {
   "cell_type": "markdown",
   "metadata": {},
   "source": [
    "## 4 Гральний кубик\n",
    "### 4.1 Реалізація симуляцій\n",
    "Реалізуйте симуляцію кидків грального кубика за допомогою функції **???**. Просимулюйте $60$ кидків кубика та підрахуйте кількість кожної із сторін."
   ]
  },
  {
   "cell_type": "code",
   "execution_count": 38,
   "metadata": {},
   "outputs": [
    {
     "name": "stdout",
     "output_type": "stream",
     "text": [
      "Side 0 : 10\n",
      "Side 1 : 10\n",
      "Side 2 : 9\n",
      "Side 3 : 12\n",
      "Side 4 : 10\n",
      "Side 5 : 9\n"
     ]
    }
   ],
   "source": [
    "# Місце для Вашого коду\n",
    "\n",
    "n_sides = 6\n",
    "throughs = np.random.randint(n_sides, size=60)\n",
    "for i in range(n_sides):\n",
    "    print('Side {} : {}'.format(i, sum(throughs == i)))"
   ]
  },
  {
   "cell_type": "markdown",
   "metadata": {},
   "source": [
    "### 4.2 Задача\n",
    "Знайдіть емпіричну ймовірність кожної сторони у симуляціях кидання грального кубика $n = 10, 50, 100, 250, 500, 1000, 2500, 5000, 10000$ разів."
   ]
  },
  {
   "cell_type": "code",
   "execution_count": 45,
   "metadata": {},
   "outputs": [
    {
     "name": "stdout",
     "output_type": "stream",
     "text": [
      "Should be  :  1/6 = 0.16666666666666666\n",
      "n = 10  :  P(0) = 0.0,  P(1) = 0.2,  P(2) = 0.1,  P(3) = 0.1,  P(4) = 0.3,  P(5) = 0.3,\n",
      "n = 50  :  P(0) = 0.18,  P(1) = 0.12,  P(2) = 0.26,  P(3) = 0.16,  P(4) = 0.16,  P(5) = 0.12,\n",
      "n = 100  :  P(0) = 0.18,  P(1) = 0.14,  P(2) = 0.09,  P(3) = 0.18,  P(4) = 0.23,  P(5) = 0.18,\n",
      "n = 250  :  P(0) = 0.172,  P(1) = 0.16,  P(2) = 0.172,  P(3) = 0.168,  P(4) = 0.196,  P(5) = 0.132,\n",
      "n = 500  :  P(0) = 0.146,  P(1) = 0.144,  P(2) = 0.164,  P(3) = 0.204,  P(4) = 0.146,  P(5) = 0.196,\n",
      "n = 1000  :  P(0) = 0.154,  P(1) = 0.17,  P(2) = 0.153,  P(3) = 0.18,  P(4) = 0.174,  P(5) = 0.169,\n",
      "n = 2500  :  P(0) = 0.1716,  P(1) = 0.1672,  P(2) = 0.158,  P(3) = 0.1672,  P(4) = 0.172,  P(5) = 0.164,\n",
      "n = 5000  :  P(0) = 0.1672,  P(1) = 0.1634,  P(2) = 0.1708,  P(3) = 0.1584,  P(4) = 0.1726,  P(5) = 0.1676,\n",
      "n = 10000  :  P(0) = 0.1689,  P(1) = 0.1652,  P(2) = 0.1651,  P(3) = 0.1647,  P(4) = 0.1667,  P(5) = 0.1694,\n"
     ]
    }
   ],
   "source": [
    "# Місце для Вашого коду\n",
    "\n",
    "params = [10, 50, 100, 250, 500, 1000, 2500, 5000, 10000]\n",
    "n_sides = 6\n",
    "print('Should be  :  1/6 = {}'.format(1/6))\n",
    "\n",
    "for n in params:\n",
    "    throughs = np.random.randint(n_sides, size=n)\n",
    "    text = 'n = {}  :'.format(n)\n",
    "    for i in range(n_sides):\n",
    "        text += '  P({}) = {},'.format(i, sum(throughs == i) / n)\n",
    "    print(text)"
   ]
  },
  {
   "cell_type": "markdown",
   "metadata": {},
   "source": [
    "## 5 Колода карт\n",
    "### 5.1 Реалізація"
   ]
  },
  {
   "cell_type": "code",
   "execution_count": 27,
   "metadata": {
    "scrolled": true
   },
   "outputs": [
    {
     "name": "stdout",
     "output_type": "stream",
     "text": [
      "[('5', '♣'), ('5', '♡'), ('5', '♠'), ('5', '♢'), ('2', '♣'), ('2', '♡'), ('2', '♠'), ('2', '♢'), ('Q', '♣'), ('Q', '♡'), ('Q', '♠'), ('Q', '♢'), ('4', '♣'), ('4', '♡'), ('4', '♠'), ('4', '♢'), ('6', '♣'), ('6', '♡'), ('6', '♠'), ('6', '♢'), ('1', '♣'), ('1', '♡'), ('1', '♠'), ('1', '♢'), ('3', '♣'), ('3', '♡'), ('3', '♠'), ('3', '♢'), ('9', '♣'), ('9', '♡'), ('9', '♠'), ('9', '♢'), ('10', '♣'), ('10', '♡'), ('10', '♠'), ('10', '♢'), ('J', '♣'), ('J', '♡'), ('J', '♠'), ('J', '♢'), ('8', '♣'), ('8', '♡'), ('8', '♠'), ('8', '♢'), ('7', '♣'), ('7', '♡'), ('7', '♠'), ('7', '♢'), ('K', '♣'), ('K', '♡'), ('K', '♠'), ('K', '♢')]\n"
     ]
    }
   ],
   "source": [
    "# Визначимо номінали, масті та карти\n",
    "Ranks = {'1', '2', '3', '4', '5', '6', '7', '8', '9', '10', 'J', 'Q', 'K'}\n",
    "Suits = {'♢', '♠', '♣', '♡'}\n",
    "# Створимо колоду карт\n",
    "Cards = [(Rank, Suit) for Rank in Ranks for Suit in Suits]\n",
    "print(Cards)"
   ]
  },
  {
   "cell_type": "code",
   "execution_count": 28,
   "metadata": {},
   "outputs": [
    {
     "name": "stdout",
     "output_type": "stream",
     "text": [
      "5♣, 5♡, 5♠, 5♢, 2♣, 2♡, 2♠, 2♢, Q♣, Q♡, Q♠, Q♢, 4♣, 4♡, 4♠, 4♢, 6♣, 6♡, 6♠, 6♢, 1♣, 1♡, 1♠, 1♢, 3♣, 3♡, 3♠, 3♢, 9♣, 9♡, 9♠, 9♢, 10♣, 10♡, 10♠, 10♢, J♣, J♡, J♠, J♢, 8♣, 8♡, 8♠, 8♢, 7♣, 7♡, 7♠, 7♢, K♣, K♡, K♠, K♢\n"
     ]
    }
   ],
   "source": [
    "# Інший вівід результату\n",
    "print(', '.join([(card[0] + card[1]) for card in Cards]))"
   ]
  },
  {
   "cell_type": "code",
   "execution_count": 29,
   "metadata": {},
   "outputs": [
    {
     "name": "stdout",
     "output_type": "stream",
     "text": [
      "♣5, ♣2, ♣Q, ♣4, ♣6, ♣1, ♣3, ♣9, ♣10, ♣J, ♣8, ♣7, ♣K\n",
      "♡5, ♡2, ♡Q, ♡4, ♡6, ♡1, ♡3, ♡9, ♡10, ♡J, ♡8, ♡7, ♡K\n",
      "♠5, ♠2, ♠Q, ♠4, ♠6, ♠1, ♠3, ♠9, ♠10, ♠J, ♠8, ♠7, ♠K\n",
      "♢5, ♢2, ♢Q, ♢4, ♢6, ♢1, ♢3, ♢9, ♢10, ♢J, ♢8, ♢7, ♢K\n"
     ]
    }
   ],
   "source": [
    "# Або згрупувавши по мастях\n",
    "for suit in Suits:\n",
    "    print(\", \".join([(suit+rank) for rank in Ranks]))"
   ]
  },
  {
   "cell_type": "code",
   "execution_count": 30,
   "metadata": {},
   "outputs": [
    {
     "name": "stdout",
     "output_type": "stream",
     "text": [
      "[('4', '♣'), ('2', '♣'), ('4', '♠'), ('10', '♡'), ('4', '♢'), ('J', '♡'), ('Q', '♠'), ('K', '♣'), ('J', '♠'), ('K', '♠'), ('4', '♡'), ('K', '♢'), ('7', '♡'), ('1', '♠'), ('1', '♢'), ('8', '♣'), ('9', '♣'), ('9', '♢'), ('Q', '♡'), ('J', '♢'), ('7', '♢'), ('3', '♣'), ('10', '♢'), ('3', '♠'), ('K', '♡'), ('9', '♠'), ('J', '♣'), ('1', '♣'), ('6', '♢'), ('9', '♡'), ('5', '♣'), ('1', '♡'), ('Q', '♢'), ('3', '♡'), ('7', '♣'), ('6', '♠'), ('8', '♡'), ('3', '♢'), ('10', '♠'), ('6', '♣'), ('8', '♠'), ('8', '♢'), ('7', '♠'), ('2', '♡'), ('2', '♢'), ('2', '♠'), ('5', '♠'), ('10', '♣'), ('Q', '♣'), ('5', '♢'), ('6', '♡'), ('5', '♡')]\n"
     ]
    }
   ],
   "source": [
    "# Перемішаємо колоду\n",
    "np.random.shuffle(Cards)\n",
    "\n",
    "print(Cards)"
   ]
  },
  {
   "cell_type": "markdown",
   "metadata": {},
   "source": [
    "### 5.2 Задача\n",
    "Знайдіть емпіричну ймовірність карти парного числа (2, 4, 6, 8, 10) у симуляціях вибору однієї карти з колоди 52 карт $n = 10, 50, 100, 250, 500, 1000, 2500, 5000, 10000$ разів."
   ]
  },
  {
   "cell_type": "code",
   "execution_count": 31,
   "metadata": {},
   "outputs": [
    {
     "name": "stdout",
     "output_type": "stream",
     "text": [
      "Should be  :  20/52 = 5/13 = 0.38461538461538464\n",
      "n = 10  :  P(2, 4, 6, 8, 10) = 0.5\n",
      "n = 50  :  P(2, 4, 6, 8, 10) = 0.2\n",
      "n = 100  :  P(2, 4, 6, 8, 10) = 0.37\n",
      "n = 250  :  P(2, 4, 6, 8, 10) = 0.396\n",
      "n = 500  :  P(2, 4, 6, 8, 10) = 0.38\n",
      "n = 1000  :  P(2, 4, 6, 8, 10) = 0.401\n",
      "n = 2500  :  P(2, 4, 6, 8, 10) = 0.3832\n",
      "n = 5000  :  P(2, 4, 6, 8, 10) = 0.3904\n",
      "n = 10000  :  P(2, 4, 6, 8, 10) = 0.389\n"
     ]
    }
   ],
   "source": [
    "# Місце для Вашого коду\n",
    "\n",
    "print('Should be  :  20/52 = 5/13 = {}'.format(5/13))\n",
    "\n",
    "params = [10, 50, 100, 250, 500, 1000, 2500, 5000, 10000]\n",
    "\n",
    "for n in params:\n",
    "    indices = np.random.randint(52, size=n)\n",
    "    cards = [Cards[i] for i in indices]\n",
    "    rangs = [card[0] for card in cards]\n",
    "    k = 0\n",
    "    for rang in rangs:\n",
    "        if rang in [str(x) for x in np.arange(2, 11, 2)]:\n",
    "            k += 1\n",
    "    text = 'n = {}  :  P(2, 4, 6, 8, 10) = {}'.format(n, k/n)\n",
    "    print(text)"
   ]
  },
  {
   "cell_type": "code",
   "execution_count": 32,
   "metadata": {},
   "outputs": [
    {
     "data": {
      "text/plain": [
       "('4', '♠')"
      ]
     },
     "execution_count": 32,
     "metadata": {},
     "output_type": "execute_result"
    }
   ],
   "source": [
    "Cards[2]"
   ]
  },
  {
   "cell_type": "markdown",
   "metadata": {},
   "source": [
    "### 5.3 Задача\n",
    "Випадковим чином роздайте колоду з 52 карт чотирьом гравцям (кожному по 13 карт) так, щоб кожен з них мав 4 карти однієї масті та по 3 карти інших мастей. Наприклад, {♣5, ♣10, ♣8, ♣4, ♠4, ♠J, ♠3, ♢Q, ♢7, ♢K, ♡9, ♡1, ♡5}."
   ]
  },
  {
   "cell_type": "code",
   "execution_count": null,
   "metadata": {
    "collapsed": true
   },
   "outputs": [],
   "source": [
    "# Місце для Вашого коду\n",
    "\n",
    "def check_condition(cards, show=False):\n",
    "    players = np.reshape(cards, (4, 13, 2))\n",
    "    for player in players:\n",
    "        suits = [card[1] for card in player]\n",
    "        nums = []\n",
    "        for suit in Suits:\n",
    "            nums.append(suits.count(suit))\n",
    "        if show:\n",
    "            text = 'Player cards  :'\n",
    "            for i in range(4):\n",
    "                text += '  suit {} = {},'.format(list(Suits)[i], nums[i])\n",
    "            print(text)\n",
    "            print([tuple(card) for card in player])\n",
    "            print('='*100)\n",
    "        if set(nums) != {3, 4}:\n",
    "            return False\n",
    "    return True"
   ]
  },
  {
   "cell_type": "code",
   "execution_count": 101,
   "metadata": {},
   "outputs": [
    {
     "name": "stdout",
     "output_type": "stream",
     "text": [
      "n = 1654\n",
      "====================================================================================================\n",
      "Player cards  :  suit ♡ = 3,  suit ♣ = 4,  suit ♠ = 3,  suit ♢ = 3,\n",
      "[('2', '♢'), ('5', '♡'), ('1', '♣'), ('6', '♣'), ('Q', '♠'), ('6', '♡'), ('9', '♠'), ('K', '♢'), ('4', '♡'), ('4', '♣'), ('3', '♢'), ('7', '♠'), ('9', '♣')]\n",
      "====================================================================================================\n",
      "Player cards  :  suit ♡ = 4,  suit ♣ = 3,  suit ♠ = 3,  suit ♢ = 3,\n",
      "[('9', '♡'), ('8', '♣'), ('7', '♣'), ('Q', '♢'), ('9', '♢'), ('5', '♢'), ('2', '♠'), ('K', '♡'), ('3', '♠'), ('8', '♠'), ('Q', '♣'), ('8', '♡'), ('10', '♡')]\n",
      "====================================================================================================\n",
      "Player cards  :  suit ♡ = 3,  suit ♣ = 3,  suit ♠ = 3,  suit ♢ = 4,\n",
      "[('J', '♣'), ('1', '♠'), ('3', '♡'), ('2', '♣'), ('J', '♡'), ('10', '♢'), ('7', '♢'), ('4', '♠'), ('1', '♢'), ('2', '♡'), ('8', '♢'), ('10', '♠'), ('K', '♣')]\n",
      "====================================================================================================\n",
      "Player cards  :  suit ♡ = 3,  suit ♣ = 3,  suit ♠ = 4,  suit ♢ = 3,\n",
      "[('10', '♣'), ('6', '♢'), ('1', '♡'), ('Q', '♡'), ('5', '♠'), ('3', '♣'), ('J', '♢'), ('4', '♢'), ('K', '♠'), ('6', '♠'), ('5', '♣'), ('J', '♠'), ('7', '♡')]\n",
      "====================================================================================================\n"
     ]
    },
    {
     "data": {
      "text/plain": [
       "True"
      ]
     },
     "execution_count": 101,
     "metadata": {},
     "output_type": "execute_result"
    }
   ],
   "source": [
    "n = 1\n",
    "np.random.shuffle(Cards)\n",
    "while not check_condition(Cards):\n",
    "    np.random.shuffle(Cards)\n",
    "    n += 1\n",
    "print('n = {}'.format(n))\n",
    "print('='*100)\n",
    "check_condition(Cards, show=True)"
   ]
  },
  {
   "cell_type": "code",
   "execution_count": 120,
   "metadata": {},
   "outputs": [
    {
     "name": "stdout",
     "output_type": "stream",
     "text": [
      "Player cards  :  suit ♡ = 3,  suit ♣ = 4,  suit ♠ = 3,  suit ♢ = 3,\n",
      "[('5', '♠'), ('3', '♡'), ('10', '♢'), ('1', '♣'), ('J', '♣'), ('7', '♠'), ('K', '♣'), ('4', '♡'), ('6', '♡'), ('2', '♣'), ('1', '♢'), ('8', '♠'), ('5', '♢')]\n",
      "====================================================================================================\n",
      "Player cards  :  suit ♡ = 3,  suit ♣ = 3,  suit ♠ = 4,  suit ♢ = 3,\n",
      "[('4', '♠'), ('8', '♡'), ('J', '♠'), ('2', '♡'), ('Q', '♢'), ('6', '♢'), ('4', '♣'), ('K', '♢'), ('5', '♡'), ('3', '♣'), ('K', '♠'), ('7', '♣'), ('3', '♠')]\n",
      "====================================================================================================\n",
      "Player cards  :  suit ♡ = 3,  suit ♣ = 3,  suit ♠ = 3,  suit ♢ = 4,\n",
      "[('7', '♢'), ('9', '♣'), ('Q', '♡'), ('2', '♠'), ('Q', '♣'), ('4', '♢'), ('10', '♠'), ('J', '♡'), ('9', '♡'), ('1', '♠'), ('J', '♢'), ('9', '♢'), ('5', '♣')]\n",
      "====================================================================================================\n",
      "Player cards  :  suit ♡ = 4,  suit ♣ = 3,  suit ♠ = 3,  suit ♢ = 3,\n",
      "[('8', '♣'), ('10', '♣'), ('Q', '♠'), ('7', '♡'), ('9', '♠'), ('3', '♢'), ('6', '♣'), ('2', '♢'), ('6', '♠'), ('K', '♡'), ('10', '♡'), ('8', '♢'), ('1', '♡')]\n",
      "====================================================================================================\n"
     ]
    },
    {
     "data": {
      "text/plain": [
       "True"
      ]
     },
     "execution_count": 120,
     "metadata": {},
     "output_type": "execute_result"
    }
   ],
   "source": [
    "players = [[], [], [], []]\n",
    "player_counter = 0\n",
    "\n",
    "for i in np.random.choice(4, size=4, replace=False):\n",
    "    suit = list(Suits)[i]\n",
    "    cards = [(rank, suit) for rank in Ranks]\n",
    "    np.random.shuffle(cards)\n",
    "    k = 0\n",
    "    for j in range(len(players)):\n",
    "        if player_counter == j:\n",
    "            for _ in range(4):\n",
    "                players[j].append(cards[k])\n",
    "                k += 1\n",
    "        else:\n",
    "            for _ in range(3):\n",
    "                players[j].append(cards[k])\n",
    "                k += 1\n",
    "    player_counter += 1\n",
    "\n",
    "for i in range(len(players)):\n",
    "    np.random.shuffle(players[i])\n",
    "\n",
    "check_condition(np.reshape(players, (1, 52, 2)), show=True)"
   ]
  },
  {
   "cell_type": "markdown",
   "metadata": {},
   "source": [
    "### 5.4 Задача\n",
    "Випадковим чином роздайте колоду з 52 карт чотирьом гравцям (кожному по 13 карт) так, щоб кожен з них мав від 2 до 5 карт кожної масті. Наприклад, {♣5, ♣10, ♣8, ♣4, ♠4, ♠J, ♠3, ♢Q, ♣7, ♢K, ♡9, ♡1, ♡5}."
   ]
  },
  {
   "cell_type": "code",
   "execution_count": 121,
   "metadata": {
    "collapsed": true
   },
   "outputs": [],
   "source": [
    "# Місце для Вашого коду\n",
    "\n",
    "def check_condition(cards, show=False):\n",
    "    players = np.reshape(cards, (4, 13, 2))\n",
    "    for player in players:\n",
    "        suits = [card[1] for card in player]\n",
    "        nums = []\n",
    "        for suit in Suits:\n",
    "            nums.append(suits.count(suit))\n",
    "        if show:\n",
    "            text = 'Player cards  :'\n",
    "            for i in range(4):\n",
    "                text += '  suit {} = {},'.format(list(Suits)[i], nums[i])\n",
    "            print(text)\n",
    "            print([tuple(card) for card in player])\n",
    "            print('='*100)\n",
    "        for num in nums:\n",
    "            if num < 2 or num > 5:\n",
    "                return False\n",
    "    return True"
   ]
  },
  {
   "cell_type": "code",
   "execution_count": 175,
   "metadata": {},
   "outputs": [
    {
     "name": "stdout",
     "output_type": "stream",
     "text": [
      "n = 9\n",
      "====================================================================================================\n",
      "Player cards  :  suit ♡ = 4,  suit ♣ = 2,  suit ♠ = 3,  suit ♢ = 4,\n",
      "[('3', '♡'), ('9', '♢'), ('2', '♡'), ('K', '♠'), ('6', '♣'), ('J', '♣'), ('J', '♡'), ('8', '♠'), ('3', '♢'), ('8', '♡'), ('3', '♠'), ('K', '♢'), ('J', '♢')]\n",
      "====================================================================================================\n",
      "Player cards  :  suit ♡ = 3,  suit ♣ = 4,  suit ♠ = 3,  suit ♢ = 3,\n",
      "[('J', '♠'), ('Q', '♡'), ('4', '♡'), ('8', '♢'), ('9', '♠'), ('9', '♣'), ('Q', '♣'), ('2', '♢'), ('7', '♢'), ('7', '♡'), ('4', '♣'), ('7', '♣'), ('2', '♠')]\n",
      "====================================================================================================\n",
      "Player cards  :  suit ♡ = 3,  suit ♣ = 3,  suit ♠ = 3,  suit ♢ = 4,\n",
      "[('Q', '♠'), ('Q', '♢'), ('5', '♣'), ('6', '♠'), ('1', '♢'), ('5', '♢'), ('1', '♣'), ('10', '♣'), ('9', '♡'), ('1', '♡'), ('4', '♢'), ('1', '♠'), ('6', '♡')]\n",
      "====================================================================================================\n",
      "Player cards  :  suit ♡ = 3,  suit ♣ = 4,  suit ♠ = 4,  suit ♢ = 2,\n",
      "[('7', '♠'), ('10', '♠'), ('4', '♠'), ('10', '♢'), ('3', '♣'), ('10', '♡'), ('6', '♢'), ('8', '♣'), ('2', '♣'), ('5', '♠'), ('K', '♡'), ('5', '♡'), ('K', '♣')]\n",
      "====================================================================================================\n"
     ]
    },
    {
     "data": {
      "text/plain": [
       "True"
      ]
     },
     "execution_count": 175,
     "metadata": {},
     "output_type": "execute_result"
    }
   ],
   "source": [
    "n = 1\n",
    "np.random.shuffle(Cards)\n",
    "while not check_condition(Cards):\n",
    "    np.random.shuffle(Cards)\n",
    "    n += 1\n",
    "print('n = {}'.format(n))\n",
    "print('='*100)\n",
    "check_condition(Cards, show=True)"
   ]
  },
  {
   "cell_type": "code",
   "execution_count": 363,
   "metadata": {},
   "outputs": [],
   "source": [
    "def replace_one_card(players, suit_nums):\n",
    "    for i in range(len(suit_nums)):\n",
    "        for j in range(len(suit_nums[0])):\n",
    "            if suit_nums[i][j] == 5 and sum(suit_nums[i]) < 13:\n",
    "                player_index = i\n",
    "                suit_index = j\n",
    "    min_set = set()\n",
    "    for j in range(len(suit_nums[0])):\n",
    "        if suit_nums[player_index][j] == min(suit_nums[player_index]):\n",
    "            min_set.add(j)\n",
    "    for i in np.random.choice(4, size=4, replace=False):\n",
    "        if suit_nums[i][suit_index] == 2:\n",
    "            player_2_index = i\n",
    "            break\n",
    "    max_set = set()\n",
    "    for j in range(len(suit_nums[0])):\n",
    "        if suit_nums[player_2_index][j] == max(suit_nums[player_2_index]):\n",
    "            max_set.add(j)\n",
    "    try:\n",
    "        suit_2_index = list(min_set.intersection(max_set))[0]\n",
    "    except:\n",
    "        suit_2_index = list(max_set)[0]\n",
    "    for i in range(len(players[player_index])):\n",
    "        if players[player_index][i][1] == list(Suits)[suit_index]:\n",
    "            card_1 = players[player_index].pop(i)\n",
    "            break\n",
    "    for i in range(len(players[player_2_index])):\n",
    "        if players[player_2_index][i][1] == list(Suits)[suit_2_index]:\n",
    "            card_2 = players[player_2_index].pop(i)\n",
    "            break\n",
    "    players[player_index].append(card_2)\n",
    "    players[player_2_index].append(card_1)\n",
    "    # print('player index : ', player_index)\n",
    "    # print('suit index : ', suit_index)\n",
    "    # print('player 2 index : ', player_2_index)\n",
    "    # print('suit 2 index : ', suit_2_index)\n",
    "    # print('card 1 : ', card_1)\n",
    "    # print('card 2 : ', card_2)\n",
    "    return players, player_index, suit_index\n",
    "\n",
    "def calculate_suit_nums(players):\n",
    "    suit_nums = [[0,0,0,0] for _ in range(len(players))]\n",
    "    for i in range(len(players)):\n",
    "        for card in players[i]:\n",
    "            for j in range(len(Suits)):\n",
    "                if card[1] == list(Suits)[j]:\n",
    "                    suit_nums[i][j] += 1\n",
    "    return suit_nums"
   ]
  },
  {
   "cell_type": "code",
   "execution_count": 370,
   "metadata": {},
   "outputs": [
    {
     "name": "stdout",
     "output_type": "stream",
     "text": [
      "Player cards  :  suit ♡ = 5,  suit ♣ = 2,  suit ♠ = 3,  suit ♢ = 3,\n",
      "[('5', '♢'), ('7', '♡'), ('1', '♡'), ('3', '♣'), ('4', '♠'), ('4', '♡'), ('6', '♢'), ('3', '♢'), ('Q', '♡'), ('5', '♣'), ('3', '♠'), ('9', '♡'), ('8', '♠')]\n",
      "====================================================================================================\n",
      "Player cards  :  suit ♡ = 4,  suit ♣ = 4,  suit ♠ = 2,  suit ♢ = 3,\n",
      "[('J', '♢'), ('3', '♡'), ('7', '♠'), ('6', '♡'), ('1', '♠'), ('J', '♣'), ('7', '♣'), ('10', '♡'), ('8', '♣'), ('1', '♣'), ('2', '♡'), ('9', '♢'), ('2', '♢')]\n",
      "====================================================================================================\n",
      "Player cards  :  suit ♡ = 2,  suit ♣ = 2,  suit ♠ = 4,  suit ♢ = 5,\n",
      "[('5', '♠'), ('8', '♡'), ('Q', '♠'), ('K', '♠'), ('8', '♢'), ('Q', '♢'), ('9', '♠'), ('J', '♡'), ('K', '♢'), ('4', '♢'), ('Q', '♣'), ('1', '♢'), ('6', '♣')]\n",
      "====================================================================================================\n",
      "Player cards  :  suit ♡ = 2,  suit ♣ = 5,  suit ♠ = 4,  suit ♢ = 2,\n",
      "[('7', '♢'), ('6', '♠'), ('2', '♣'), ('10', '♠'), ('4', '♣'), ('5', '♡'), ('J', '♠'), ('9', '♣'), ('K', '♡'), ('K', '♣'), ('2', '♠'), ('10', '♢'), ('10', '♣')]\n",
      "====================================================================================================\n"
     ]
    }
   ],
   "source": [
    "res = []\n",
    "for _ in range(1):\n",
    "    players = [[], [], [], []]\n",
    "    cards_left = []\n",
    "\n",
    "    for i in np.random.choice(4, size=4, replace=False):\n",
    "        suit = list(Suits)[i]\n",
    "        cards = [(rank, suit) for rank in Ranks]\n",
    "        np.random.shuffle(cards)\n",
    "        k = 0\n",
    "        for j in range(len(players)):\n",
    "            for _ in range(2):\n",
    "                players[j].append(cards[k])\n",
    "                k += 1\n",
    "        for _ in range(5):\n",
    "            cards_left.append(cards[k])\n",
    "            k += 1\n",
    "\n",
    "    nums = [8,8,8,8]\n",
    "    suit_nums = [[2,2,2,2], [2,2,2,2], [2,2,2,2], [2,2,2,2]]\n",
    "    players_set = {0,1,2,3}\n",
    "    counter = 0\n",
    "    suit_sets = [set(), set(), set(), set()]\n",
    "\n",
    "    for card in cards_left:\n",
    "        # print('counter : ', counter)\n",
    "        # print('players set : ', players_set)\n",
    "        for i in range(len(Suits)):\n",
    "            if list(Suits)[i] == card[1]:\n",
    "                suit_index = i\n",
    "        # print('suit index : ', suit_index)\n",
    "        # print('suit sets : ', suit_sets)\n",
    "        if len(players_set-suit_sets[suit_index]) == 0:\n",
    "            # print('Made replacement')\n",
    "            players, p_ind, s_ind = replace_one_card(players, suit_nums)\n",
    "            suit_nums = calculate_suit_nums(players)\n",
    "            suit_sets[suit_index] -= {p_ind}\n",
    "            # print('='*100)\n",
    "        player_index = np.random.choice(list(players_set-suit_sets[suit_index]))\n",
    "        # print('player index : ', player_index)\n",
    "        players[player_index].append(card)\n",
    "        nums[player_index] += 1\n",
    "        suit_nums[player_index][suit_index] += 1\n",
    "        # print('nums : ', nums)\n",
    "        # print('suit nums : ', suit_nums)\n",
    "        if suit_nums[player_index][suit_index] == 5:\n",
    "            suit_sets[suit_index].add(player_index)\n",
    "        if nums[player_index] == 13:\n",
    "            players_set -= {player_index}\n",
    "        counter += 1\n",
    "        # print('='*100)\n",
    "\n",
    "    for i in range(len(players)):\n",
    "        np.random.shuffle(players[i])\n",
    "\n",
    "    # res.append(check_condition(np.reshape(players, (1, 52, 2)), show=False))\n",
    "    check_condition(np.reshape(players, (1, 52, 2)), show=True)\n",
    "    if not check_condition(np.reshape(players, (1, 52, 2)), show=False):\n",
    "        check_condition(np.reshape(players, (1, 52, 2)), show=True)\n",
    "        break"
   ]
  },
  {
   "cell_type": "code",
   "execution_count": 369,
   "metadata": {},
   "outputs": [
    {
     "data": {
      "text/plain": [
       "True"
      ]
     },
     "execution_count": 369,
     "metadata": {},
     "output_type": "execute_result"
    }
   ],
   "source": [
    "all(res)"
   ]
  },
  {
   "cell_type": "code",
   "execution_count": null,
   "metadata": {
    "collapsed": true
   },
   "outputs": [],
   "source": []
  }
 ],
 "metadata": {
  "kernelspec": {
   "display_name": "Python 3",
   "language": "python",
   "name": "python3"
  },
  "language_info": {
   "codemirror_mode": {
    "name": "ipython",
    "version": 3
   },
   "file_extension": ".py",
   "mimetype": "text/x-python",
   "name": "python",
   "nbconvert_exporter": "python",
   "pygments_lexer": "ipython3",
   "version": "3.10.6"
  },
  "vscode": {
   "interpreter": {
    "hash": "455757403a224dce549c2c8bae44f0d7666f720589e565f9fa0135a180a2ac5b"
   }
  }
 },
 "nbformat": 4,
 "nbformat_minor": 1
}
