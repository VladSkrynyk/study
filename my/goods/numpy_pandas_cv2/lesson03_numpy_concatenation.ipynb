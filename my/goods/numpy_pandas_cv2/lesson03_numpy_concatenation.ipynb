{
 "cells": [
  {
   "attachments": {},
   "cell_type": "markdown",
   "metadata": {},
   "source": [
    "Numpy cancatenation"
   ]
  },
  {
   "cell_type": "code",
   "execution_count": 5,
   "metadata": {},
   "outputs": [
    {
     "name": "stdout",
     "output_type": "stream",
     "text": [
      "['helloabc' 'hiabc' 'fghabc']\n"
     ]
    }
   ],
   "source": [
    "import numpy as np\n",
    "print(np.char.add([\"hello\", \"hi\", \"fgh\"], ['abc']))\n"
   ]
  },
  {
   "cell_type": "code",
   "execution_count": 6,
   "metadata": {},
   "outputs": [
    {
     "name": "stdout",
     "output_type": "stream",
     "text": [
      "HrlloHrlloHrllo\n"
     ]
    }
   ],
   "source": [
    "print(np.char.multiply(\"Hrllo\", 3))"
   ]
  },
  {
   "cell_type": "code",
   "execution_count": 9,
   "metadata": {},
   "outputs": [
    {
     "name": "stdout",
     "output_type": "stream",
     "text": [
      "-------Hello--------\n"
     ]
    }
   ],
   "source": [
    "print(np.char.center(\"Hello\", 20, fillchar=\"-\"))"
   ]
  },
  {
   "cell_type": "code",
   "execution_count": 10,
   "metadata": {},
   "outputs": [
    {
     "name": "stdout",
     "output_type": "stream",
     "text": [
      "Hello\n"
     ]
    }
   ],
   "source": [
    "print(np.char.capitalize(\"hello\"))"
   ]
  },
  {
   "cell_type": "code",
   "execution_count": 11,
   "metadata": {},
   "outputs": [
    {
     "name": "stdout",
     "output_type": "stream",
     "text": [
      "One Two Three\n"
     ]
    }
   ],
   "source": [
    "print(np.char.title(\"one two three\"))"
   ]
  },
  {
   "cell_type": "code",
   "execution_count": 12,
   "metadata": {},
   "outputs": [
    {
     "name": "stdout",
     "output_type": "stream",
     "text": [
      "['hello' 'world']\n",
      "hello\n"
     ]
    }
   ],
   "source": [
    "print(np.char.lower([\"HELLO\", \"WORLD\"]))\n",
    "print(np.char.lower(\"HELLO\"))"
   ]
  },
  {
   "cell_type": "code",
   "execution_count": 13,
   "metadata": {},
   "outputs": [
    {
     "name": "stdout",
     "output_type": "stream",
     "text": [
      "['HELLO' 'WORLD']\n",
      "HELLO\n"
     ]
    }
   ],
   "source": [
    "print(np.char.upper([\"hello\", \"world\"]))\n",
    "print(np.char.upper(\"hello\"))"
   ]
  },
  {
   "cell_type": "code",
   "execution_count": 17,
   "metadata": {},
   "outputs": [
    {
     "name": "stdout",
     "output_type": "stream",
     "text": [
      "['one', 'two', 'three', 'four']\n"
     ]
    }
   ],
   "source": [
    "print(np.char.split(\"one two three four\"))"
   ]
  },
  {
   "cell_type": "code",
   "execution_count": 19,
   "metadata": {},
   "outputs": [
    {
     "name": "stdout",
     "output_type": "stream",
     "text": [
      "['nin' 'dmin' 'nait']\n"
     ]
    }
   ],
   "source": [
    "print(np.char.strip([\"nina\", \"admin\", \"anaita\"], \"a\"))"
   ]
  },
  {
   "cell_type": "code",
   "execution_count": 20,
   "metadata": {},
   "outputs": [
    {
     "name": "stdout",
     "output_type": "stream",
     "text": [
      "['d:m:y' 'y-m-d']\n"
     ]
    }
   ],
   "source": [
    "print(np.char.join([\":\", \"-\"], [\"dmy\", \"ymd\"]))"
   ]
  },
  {
   "cell_type": "code",
   "execution_count": 23,
   "metadata": {},
   "outputs": [
    {
     "name": "stdout",
     "output_type": "stream",
     "text": [
      "one two three\n"
     ]
    }
   ],
   "source": [
    "print(np.char.replace(\"one two four\", \"four\", \"three\"))"
   ]
  }
 ],
 "metadata": {
  "kernelspec": {
   "display_name": "Python 3",
   "language": "python",
   "name": "python3"
  },
  "language_info": {
   "codemirror_mode": {
    "name": "ipython",
    "version": 3
   },
   "file_extension": ".py",
   "mimetype": "text/x-python",
   "name": "python",
   "nbconvert_exporter": "python",
   "pygments_lexer": "ipython3",
   "version": "3.10.10"
  },
  "orig_nbformat": 4,
  "vscode": {
   "interpreter": {
    "hash": "98bffff1047927bd7fddf6041c2823ab203199520dd047af75335f9218fa0806"
   }
  }
 },
 "nbformat": 4,
 "nbformat_minor": 2
}
