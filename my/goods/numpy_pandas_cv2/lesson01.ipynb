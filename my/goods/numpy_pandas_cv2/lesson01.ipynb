{
 "cells": [
  {
   "attachments": {},
   "cell_type": "markdown",
   "metadata": {},
   "source": [
    "Basic information and difference between np.array and python list"
   ]
  },
  {
   "cell_type": "code",
   "execution_count": 2,
   "metadata": {},
   "outputs": [
    {
     "data": {
      "text/plain": [
       "array([1, 2, 3])"
      ]
     },
     "execution_count": 2,
     "metadata": {},
     "output_type": "execute_result"
    }
   ],
   "source": [
    "import numpy as  np\n",
    "a = np.array([1, 2, 3])\n",
    "a"
   ]
  },
  {
   "cell_type": "code",
   "execution_count": 4,
   "metadata": {},
   "outputs": [
    {
     "data": {
      "text/plain": [
       "2"
      ]
     },
     "execution_count": 4,
     "metadata": {},
     "output_type": "execute_result"
    }
   ],
   "source": [
    "a[1]"
   ]
  },
  {
   "cell_type": "code",
   "execution_count": 18,
   "metadata": {},
   "outputs": [
    {
     "name": "stdout",
     "output_type": "stream",
     "text": [
      "numpy list took: 2.002239227294922\n",
      "python list took: 16.9985294342041\n"
     ]
    }
   ],
   "source": [
    "import time\n",
    "import sys\n",
    "\n",
    "b = range(1000)\n",
    "# print(sys.getsizeof(5) * len(b))\n",
    "\n",
    "c = np.arange(1000)\n",
    "# print(c.size * c.itemsize)\n",
    "\n",
    "size = 100000\n",
    "L1 = range(size)\n",
    "L2 = range(size)\n",
    "A1 = np.arange(size)\n",
    "A2 = np.arange(size)\n",
    "\n",
    "start1 = time.time()\n",
    "result = A1 + A2\n",
    "print(f\"numpy list took: {(time.time() - start1) * 1000}\")\n",
    "\n",
    "start = time.time()\n",
    "result = [(x + y) for x, y in zip(L1, L2)]\n",
    "print(f\"python list took: {(time.time() - start) * 1000}\")\n",
    "\n",
    "\n"
   ]
  }
 ],
 "metadata": {
  "kernelspec": {
   "display_name": "Python 3",
   "language": "python",
   "name": "python3"
  },
  "language_info": {
   "codemirror_mode": {
    "name": "ipython",
    "version": 3
   },
   "file_extension": ".py",
   "mimetype": "text/x-python",
   "name": "python",
   "nbconvert_exporter": "python",
   "pygments_lexer": "ipython3",
   "version": "3.10.6"
  },
  "orig_nbformat": 4,
  "vscode": {
   "interpreter": {
    "hash": "455757403a224dce549c2c8bae44f0d7666f720589e565f9fa0135a180a2ac5b"
   }
  }
 },
 "nbformat": 4,
 "nbformat_minor": 2
}
